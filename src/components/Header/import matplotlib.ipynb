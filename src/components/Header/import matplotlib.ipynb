import matplotlib.pyplot as plt
import matplotlib.animation as animation
import numpy as np
from IPython.display import HTML

# Create a figure and an axis with a smaller size
fig, ax = plt.subplots(figsize=(8, 4))

# Set the limits for the x and y axes
ax.set_xlim(0, 16)
ax.set_ylim(0, 8)

# Add grid
ax.grid(False)

# add labels and a title
ax.set_ylabel('1/2')
ax.set_title('')

# Remove the spines
ax.spines['left'].set_color('none')
ax.spines['right'].set_color('none')
ax.spines['top'].set_color('none')
ax.spines['bottom'].set_color('none')

# Add custom vertical and horizontal lines
ax.axvline(x=2, color='black', linewidth=2)
ax.axvline(x=6, color='black', linewidth=2)
ax.axvline(x=10, color='black', linewidth=2)
ax.axvline(x=14, color='black', linewidth=2)
ax.axhline(y=0, color='black', linewidth=3)
ax.axhline(y=4, color='black', linewidth=2)
ax.axhline(y=8, color='black', linewidth=2)

# Remove tick labels
ax.set_xticks([])
ax.set_yticks([])
ax.xaxis.set_ticks_position('none')
ax.yaxis.set_ticks_position('none')

# Add custom labels
ax.text(1.75, 4.25, '+', fontsize=12, ha='center', va='center')
ax.text(5.75, 4.25, '+i', fontsize=10, ha='center', va='center')
ax.text(9.75, 4.25, '-', fontsize=12, ha='center', va='center')
ax.text(13.75, 4.25, '- i', fontsize=10, ha='center', va='center')

# Function to create and initialize a line
def create_line(start_pos, end_pos, center, color):
    line, = ax.plot([], [], color=color)
    return line, (start_pos, end_pos, center)

# Function to create and initialize a point
def create_point(position, center, color):
    point, = ax.plot([], [], 'o', color=color)
    return point, (position, center)

# Create lines with different colors
lines = [
    create_line((2, 0), (2, 8), (2, 4), 'r'),
    create_line((6, 0), (6, 8), (6, 4), 'g'),
    create_line((2, 4), (6, 4), (4, 4), 'b')
]

# Create points with different colors
points = [
    create_point(position=(2, 8), center=(2, 4), color='m'),
    create_point((2, 0), (2, 4), 'c')
]

# Extract lines and centers
line_objects = [line[0] for line in lines]
line_centers = [line[1] for line in lines]

# Extract points and their centers
point_objects = [point[0] for point in points]
point_centers = [point[1] for point in points]

# Initialize the lines and points
def init():
    for line in line_objects:
        line.set_data([], [])
    for point in point_objects:
        point.set_data([], [])
    return line_objects + point_objects

# Function to handle looping of coordinates
def loop_coordinates(x, y, x_min, x_max, y_min, y_max):
    x = (x - x_min) % (x_max - x_min) + x_min
    y = (y - y_min) % (y_max - y_min) + y_min
    return x, y

# Update function for the animation
def update(frame, line_objects, line_centers, point_objects, point_centers, rotation_angle):
    x_min, x_max = ax.get_xlim()
    y_min, y_max = ax.get_ylim()

    for line, (start_pos, end_pos, center) in zip(line_objects, line_centers):
        # Rotate the line around the center
        angle = np.deg2rad(rotation_angle * frame / 100)
        x0, y0 = center
        x1 = x0 + np.cos(angle) * (start_pos[0] - x0) - np.sin(angle) * (start_pos[1] - y0)
        y1 = y0 + np.sin(angle) * (start_pos[0] - x0) + np.cos(angle) * (start_pos[1] - y0)
        x2 = x0 + np.cos(angle) * (end_pos[0] - x0) - np.sin(angle) * (end_pos[1] - y0)
        y2 = y0 + np.sin(angle) * (end_pos[0] - x0) + np.cos(angle) * (end_pos[1] - y0)
        x1, y1 = loop_coordinates(x1, y1, x_min, x_max, y_min, y_max)
        x2, y2 = loop_coordinates(x2, y2, x_min, x_max, y_min, y_max)
        line.set_data([x1, x2], [y1, y2])

    for point, (position, center) in zip(point_objects, point_centers):
        angle = np.deg2rad(rotation_angle * frame / 100)
        x0, y0 = center
        x, y = position
        x_rot = x0 + np.cos(angle) * (x - x0) - np.sin(angle) * (y - y0)
        y_rot = y0 + np.sin(angle) * (x - x0) + np.cos(angle) * (y - y0)
        x_rot, y_rot = loop_coordinates(x_rot, y_rot, x_min, x_max, y_min, y_max)
        point.set_data(x_rot, y_rot)

    return line_objects + point_objects

rotation_angle = 90

# Create the animation
ani = animation.FuncAnimation(fig, update, frames=np.arange(0, 101, 1), init_func=init, fargs=(line_objects, line_centers, point_objects, point_centers, rotation_angle), blit=True, repeat=True)

# Render the animation as HTML
HTML(ani.to_jshtml())
